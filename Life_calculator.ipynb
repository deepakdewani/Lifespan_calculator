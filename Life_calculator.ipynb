{
  "nbformat": 4,
  "nbformat_minor": 0,
  "metadata": {
    "colab": {
      "name": "Life calculator.ipynb",
      "provenance": []
    },
    "kernelspec": {
      "name": "python3",
      "display_name": "Python 3"
    },
    "language_info": {
      "name": "python"
    }
  },
  "cells": [
    {
      "cell_type": "code",
      "execution_count": 1,
      "metadata": {
        "colab": {
          "base_uri": "https://localhost:8080/"
        },
        "id": "O4y4LtJRMkAC",
        "outputId": "573076c7-ed5e-4f60-a0af-30b8ccb421ec"
      },
      "outputs": [
        {
          "output_type": "stream",
          "name": "stdout",
          "text": [
            "Enter Your Current age: 27\n",
            "You have 22995 days, 3276 weeks, 756 months and 63 years remaining to complete your 90 years of span\n"
          ]
        }
      ],
      "source": [
        "age= int(input(\"Enter Your Current age: \"))\n",
        "\n",
        "# it will show how many years, months, weeks and days left for 90 years of span.\n",
        "\n",
        "years_left = 90 - age\n",
        "days_left = 365 * years_left\n",
        "weeks_left = 52 * years_left\n",
        "months_left = 12* years_left\n",
        "\n",
        "message = f\"You have {days_left} days, {weeks_left} weeks, {months_left} months and {years_left} years remaining to complete your 90 years of span\"\n",
        "\n",
        "print(message)"
      ]
    },
    {
      "cell_type": "code",
      "source": [
        ""
      ],
      "metadata": {
        "id": "_RJu3oAUPHfQ"
      },
      "execution_count": null,
      "outputs": []
    }
  ]
}